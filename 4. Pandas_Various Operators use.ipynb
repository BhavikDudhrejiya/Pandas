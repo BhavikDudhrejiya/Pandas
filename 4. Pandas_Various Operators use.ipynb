{
 "cells": [
  {
   "cell_type": "code",
   "execution_count": 1,
   "metadata": {},
   "outputs": [],
   "source": [
    "#Importing library\n",
    "import pandas as pd"
   ]
  },
  {
   "cell_type": "code",
   "execution_count": 2,
   "metadata": {},
   "outputs": [
    {
     "data": {
      "text/plain": [
       "0      1\n",
       "1      2\n",
       "2      3\n",
       "3      4\n",
       "4      5\n",
       "5      7\n",
       "6      8\n",
       "7      9\n",
       "8     10\n",
       "9     11\n",
       "10    12\n",
       "11    13\n",
       "12    14\n",
       "13    15\n",
       "14    16\n",
       "15    17\n",
       "16    18\n",
       "17    19\n",
       "18    20\n",
       "dtype: int64"
      ]
     },
     "execution_count": 2,
     "metadata": {},
     "output_type": "execute_result"
    }
   ],
   "source": [
    "#Creating series\n",
    "s1 = pd.Series([1,2,3,4,5,7,8,9,10,11,12,13,14,15,16,17,18,19,20])\n",
    "s1"
   ]
  },
  {
   "cell_type": "markdown",
   "metadata": {},
   "source": [
    "# MIN AND MAX"
   ]
  },
  {
   "cell_type": "code",
   "execution_count": 3,
   "metadata": {},
   "outputs": [
    {
     "data": {
      "text/plain": [
       "1"
      ]
     },
     "execution_count": 3,
     "metadata": {},
     "output_type": "execute_result"
    }
   ],
   "source": [
    "#Finding minimum value from the series\n",
    "min(s1)"
   ]
  },
  {
   "cell_type": "code",
   "execution_count": 4,
   "metadata": {},
   "outputs": [
    {
     "data": {
      "text/plain": [
       "20"
      ]
     },
     "execution_count": 4,
     "metadata": {},
     "output_type": "execute_result"
    }
   ],
   "source": [
    "#Finding maximum value from the series\n",
    "max(s1)"
   ]
  },
  {
   "cell_type": "markdown",
   "metadata": {},
   "source": [
    "# CONDITIONAL OPERATOR"
   ]
  },
  {
   "cell_type": "code",
   "execution_count": 8,
   "metadata": {},
   "outputs": [
    {
     "data": {
      "text/plain": [
       "9     11\n",
       "10    12\n",
       "11    13\n",
       "12    14\n",
       "13    15\n",
       "14    16\n",
       "15    17\n",
       "16    18\n",
       "17    19\n",
       "18    20\n",
       "dtype: int64"
      ]
     },
     "execution_count": 8,
     "metadata": {},
     "output_type": "execute_result"
    }
   ],
   "source": [
    "#Finding values from the list who's value greater than 10\n",
    "s1[s1>10]"
   ]
  },
  {
   "cell_type": "code",
   "execution_count": 10,
   "metadata": {},
   "outputs": [
    {
     "data": {
      "text/plain": [
       "0     21\n",
       "1     22\n",
       "2     23\n",
       "3     24\n",
       "4     25\n",
       "5     26\n",
       "6     27\n",
       "7     28\n",
       "8     29\n",
       "9     30\n",
       "10    31\n",
       "11    32\n",
       "12    33\n",
       "13    34\n",
       "14    35\n",
       "15    36\n",
       "16    37\n",
       "17    38\n",
       "18    39\n",
       "19    40\n",
       "dtype: int64"
      ]
     },
     "execution_count": 10,
     "metadata": {},
     "output_type": "execute_result"
    }
   ],
   "source": [
    "#Creating series\n",
    "s2 = pd.Series([21,22,23,24,25,26,27,28,29,30,31,32,33,34,35,36,37,38,39,40])\n",
    "s2"
   ]
  },
  {
   "cell_type": "markdown",
   "metadata": {},
   "source": [
    "# MATHEMETICAL OPERATION WITH SERIES"
   ]
  },
  {
   "cell_type": "code",
   "execution_count": 11,
   "metadata": {},
   "outputs": [
    {
     "data": {
      "text/plain": [
       "0     22.0\n",
       "1     24.0\n",
       "2     26.0\n",
       "3     28.0\n",
       "4     30.0\n",
       "5     33.0\n",
       "6     35.0\n",
       "7     37.0\n",
       "8     39.0\n",
       "9     41.0\n",
       "10    43.0\n",
       "11    45.0\n",
       "12    47.0\n",
       "13    49.0\n",
       "14    51.0\n",
       "15    53.0\n",
       "16    55.0\n",
       "17    57.0\n",
       "18    59.0\n",
       "19     NaN\n",
       "dtype: float64"
      ]
     },
     "execution_count": 11,
     "metadata": {},
     "output_type": "execute_result"
    }
   ],
   "source": [
    "#Addition of series s1 and s2\n",
    "s1 + s2"
   ]
  },
  {
   "cell_type": "code",
   "execution_count": 12,
   "metadata": {},
   "outputs": [
    {
     "data": {
      "text/plain": [
       "0    -20.0\n",
       "1    -20.0\n",
       "2    -20.0\n",
       "3    -20.0\n",
       "4    -20.0\n",
       "5    -19.0\n",
       "6    -19.0\n",
       "7    -19.0\n",
       "8    -19.0\n",
       "9    -19.0\n",
       "10   -19.0\n",
       "11   -19.0\n",
       "12   -19.0\n",
       "13   -19.0\n",
       "14   -19.0\n",
       "15   -19.0\n",
       "16   -19.0\n",
       "17   -19.0\n",
       "18   -19.0\n",
       "19     NaN\n",
       "dtype: float64"
      ]
     },
     "execution_count": 12,
     "metadata": {},
     "output_type": "execute_result"
    }
   ],
   "source": [
    "#Subtraction of series s1 and s2\n",
    "s1 - s2"
   ]
  },
  {
   "cell_type": "code",
   "execution_count": 13,
   "metadata": {},
   "outputs": [
    {
     "data": {
      "text/plain": [
       "0      21.0\n",
       "1      44.0\n",
       "2      69.0\n",
       "3      96.0\n",
       "4     125.0\n",
       "5     182.0\n",
       "6     216.0\n",
       "7     252.0\n",
       "8     290.0\n",
       "9     330.0\n",
       "10    372.0\n",
       "11    416.0\n",
       "12    462.0\n",
       "13    510.0\n",
       "14    560.0\n",
       "15    612.0\n",
       "16    666.0\n",
       "17    722.0\n",
       "18    780.0\n",
       "19      NaN\n",
       "dtype: float64"
      ]
     },
     "execution_count": 13,
     "metadata": {},
     "output_type": "execute_result"
    }
   ],
   "source": [
    "#Multiplication of series s1 and s2\n",
    "s1 * s2"
   ]
  },
  {
   "cell_type": "code",
   "execution_count": 14,
   "metadata": {},
   "outputs": [
    {
     "data": {
      "text/plain": [
       "0     0.047619\n",
       "1     0.090909\n",
       "2     0.130435\n",
       "3     0.166667\n",
       "4     0.200000\n",
       "5     0.269231\n",
       "6     0.296296\n",
       "7     0.321429\n",
       "8     0.344828\n",
       "9     0.366667\n",
       "10    0.387097\n",
       "11    0.406250\n",
       "12    0.424242\n",
       "13    0.441176\n",
       "14    0.457143\n",
       "15    0.472222\n",
       "16    0.486486\n",
       "17    0.500000\n",
       "18    0.512821\n",
       "19         NaN\n",
       "dtype: float64"
      ]
     },
     "execution_count": 14,
     "metadata": {},
     "output_type": "execute_result"
    }
   ],
   "source": [
    "#Division of series s1 and s2\n",
    "s1 / s2"
   ]
  },
  {
   "cell_type": "code",
   "execution_count": 15,
   "metadata": {},
   "outputs": [
    {
     "data": {
      "text/plain": [
       "0     1\n",
       "1     2\n",
       "2     3\n",
       "3     4\n",
       "4     4\n",
       "5     5\n",
       "6     8\n",
       "7     7\n",
       "8     4\n",
       "9     5\n",
       "10    9\n",
       "dtype: int64"
      ]
     },
     "execution_count": 15,
     "metadata": {},
     "output_type": "execute_result"
    }
   ],
   "source": [
    "#Creating series\n",
    "s3 = pd.Series([1,2,3,4,4,5,8,7,4,5,9])\n",
    "s3"
   ]
  },
  {
   "cell_type": "code",
   "execution_count": 16,
   "metadata": {},
   "outputs": [
    {
     "data": {
      "text/plain": [
       "0      2.0\n",
       "1      4.0\n",
       "2      6.0\n",
       "3      8.0\n",
       "4      9.0\n",
       "5     12.0\n",
       "6     16.0\n",
       "7     16.0\n",
       "8     14.0\n",
       "9     16.0\n",
       "10    21.0\n",
       "11     NaN\n",
       "12     NaN\n",
       "13     NaN\n",
       "14     NaN\n",
       "15     NaN\n",
       "16     NaN\n",
       "17     NaN\n",
       "18     NaN\n",
       "dtype: float64"
      ]
     },
     "execution_count": 16,
     "metadata": {},
     "output_type": "execute_result"
    }
   ],
   "source": [
    "#Addition of s1 & s3\n",
    "s1 + s3"
   ]
  },
  {
   "cell_type": "markdown",
   "metadata": {},
   "source": [
    "#Series is handling missing values as well"
   ]
  }
 ],
 "metadata": {
  "kernelspec": {
   "display_name": "Python 3",
   "language": "python",
   "name": "python3"
  },
  "language_info": {
   "codemirror_mode": {
    "name": "ipython",
    "version": 3
   },
   "file_extension": ".py",
   "mimetype": "text/x-python",
   "name": "python",
   "nbconvert_exporter": "python",
   "pygments_lexer": "ipython3",
   "version": "3.8.6"
  }
 },
 "nbformat": 4,
 "nbformat_minor": 4
}
