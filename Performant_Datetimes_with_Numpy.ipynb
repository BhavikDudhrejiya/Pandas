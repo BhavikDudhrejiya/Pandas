{
  "nbformat": 4,
  "nbformat_minor": 0,
  "metadata": {
    "colab": {
      "name": "Performant Datetimes with Numpy.ipynb",
      "provenance": [],
      "collapsed_sections": [],
      "authorship_tag": "ABX9TyM+UOllvM5sPDkIfuKCoZFC",
      "include_colab_link": true
    },
    "kernelspec": {
      "name": "python3",
      "display_name": "Python 3"
    },
    "language_info": {
      "name": "python"
    }
  },
  "cells": [
    {
      "cell_type": "markdown",
      "metadata": {
        "id": "view-in-github",
        "colab_type": "text"
      },
      "source": [
        "<a href=\"https://colab.research.google.com/github/BhavikDudhrejiya/Pandas/blob/main/Performant_Datetimes_with_Numpy.ipynb\" target=\"_parent\"><img src=\"https://colab.research.google.com/assets/colab-badge.svg\" alt=\"Open In Colab\"/></a>"
      ]
    },
    {
      "cell_type": "code",
      "metadata": {
        "id": "Qm_X9FwK9RXb"
      },
      "source": [
        "#Impoting libraries\n",
        "import pandas as pd\n",
        "import numpy as np"
      ],
      "execution_count": 2,
      "outputs": []
    },
    {
      "cell_type": "code",
      "metadata": {
        "id": "gBjeSxz5ZKXy"
      },
      "source": [
        "from datetime import datetime, time"
      ],
      "execution_count": 12,
      "outputs": []
    },
    {
      "cell_type": "code",
      "metadata": {
        "colab": {
          "base_uri": "https://localhost:8080/"
        },
        "id": "_X0hmOdsbPZ6",
        "outputId": "f226e5fd-3401-4f4e-ac28-38c377e23a72"
      },
      "source": [
        "dt = np.datetime64('2021-08-05')\n",
        "dt"
      ],
      "execution_count": 27,
      "outputs": [
        {
          "output_type": "execute_result",
          "data": {
            "text/plain": [
              "numpy.datetime64('2021-08-05')"
            ]
          },
          "metadata": {},
          "execution_count": 27
        }
      ]
    },
    {
      "cell_type": "code",
      "metadata": {
        "colab": {
          "base_uri": "https://localhost:8080/"
        },
        "id": "KOV6Ip2lbPcx",
        "outputId": "cdf8abeb-ee9a-4b2f-8c06-0741e05fb632"
      },
      "source": [
        "type(dt)"
      ],
      "execution_count": 23,
      "outputs": [
        {
          "output_type": "execute_result",
          "data": {
            "text/plain": [
              "numpy.datetime64"
            ]
          },
          "metadata": {},
          "execution_count": 23
        }
      ]
    },
    {
      "cell_type": "code",
      "metadata": {
        "colab": {
          "base_uri": "https://localhost:8080/"
        },
        "id": "P2kBIAWTbPfK",
        "outputId": "03fa43f2-79b8-4e67-dae1-b075b4ad688b"
      },
      "source": [
        "dt2 = datetime.now()\n",
        "dt2 = np.datetime64(dt2)\n",
        "dt2"
      ],
      "execution_count": 29,
      "outputs": [
        {
          "output_type": "execute_result",
          "data": {
            "text/plain": [
              "numpy.datetime64('2021-09-05T14:48:54.912247')"
            ]
          },
          "metadata": {},
          "execution_count": 29
        }
      ]
    },
    {
      "cell_type": "code",
      "metadata": {
        "colab": {
          "base_uri": "https://localhost:8080/"
        },
        "id": "X3H-8UpUbPiA",
        "outputId": "5f5365bb-a700-4d27-f648-92ecbe9570db"
      },
      "source": [
        "dt2+15"
      ],
      "execution_count": 31,
      "outputs": [
        {
          "output_type": "execute_result",
          "data": {
            "text/plain": [
              "numpy.datetime64('2021-09-05T14:48:54.912262')"
            ]
          },
          "metadata": {},
          "execution_count": 31
        }
      ]
    },
    {
      "cell_type": "code",
      "metadata": {
        "colab": {
          "base_uri": "https://localhost:8080/"
        },
        "id": "9KX0e2T3bqIJ",
        "outputId": "e679b1ea-e046-48fe-8fa6-6762a8010fa0"
      },
      "source": [
        "np.datetime64(dt2,'D')+15"
      ],
      "execution_count": 34,
      "outputs": [
        {
          "output_type": "execute_result",
          "data": {
            "text/plain": [
              "numpy.datetime64('2021-09-20')"
            ]
          },
          "metadata": {},
          "execution_count": 34
        }
      ]
    },
    {
      "cell_type": "code",
      "metadata": {
        "colab": {
          "base_uri": "https://localhost:8080/"
        },
        "id": "scVIIO-XcGP3",
        "outputId": "ee2a182a-9296-4b41-f91a-b1227a297c10"
      },
      "source": [
        "np.datetime64(dt2,'D') - np.datetime64('2021-08-05')"
      ],
      "execution_count": 38,
      "outputs": [
        {
          "output_type": "execute_result",
          "data": {
            "text/plain": [
              "numpy.timedelta64(31,'D')"
            ]
          },
          "metadata": {},
          "execution_count": 38
        }
      ]
    },
    {
      "cell_type": "code",
      "metadata": {
        "id": "VrF2fFCadjMj"
      },
      "source": [
        "dates = np.array(['2021-01-31','2021-02-28','2021-03-31'],dtype=np.datetime64)"
      ],
      "execution_count": 43,
      "outputs": []
    },
    {
      "cell_type": "code",
      "metadata": {
        "colab": {
          "base_uri": "https://localhost:8080/"
        },
        "id": "ijS2ScotdjgG",
        "outputId": "ac9451fd-f7e8-46da-8c26-aedbdb2fa844"
      },
      "source": [
        "np.busday_offset(dates,offsets = 10, roll = 'backward')"
      ],
      "execution_count": 44,
      "outputs": [
        {
          "output_type": "execute_result",
          "data": {
            "text/plain": [
              "array(['2021-02-12', '2021-03-12', '2021-04-14'], dtype='datetime64[D]')"
            ]
          },
          "metadata": {},
          "execution_count": 44
        }
      ]
    }
  ]
}