{
  "nbformat": 4,
  "nbformat_minor": 0,
  "metadata": {
    "colab": {
      "name": "Parsing Dates from Text.ipynb",
      "provenance": [],
      "collapsed_sections": [],
      "authorship_tag": "ABX9TyMHsft0I6RI2g+VsVl5y+dp",
      "include_colab_link": true
    },
    "kernelspec": {
      "name": "python3",
      "display_name": "Python 3"
    },
    "language_info": {
      "name": "python"
    }
  },
  "cells": [
    {
      "cell_type": "markdown",
      "metadata": {
        "id": "view-in-github",
        "colab_type": "text"
      },
      "source": [
        "<a href=\"https://colab.research.google.com/github/BhavikDudhrejiya/Pandas/blob/main/Parsing_Dates_from_Text.ipynb\" target=\"_parent\"><img src=\"https://colab.research.google.com/assets/colab-badge.svg\" alt=\"Open In Colab\"/></a>"
      ]
    },
    {
      "cell_type": "code",
      "metadata": {
        "id": "Qm_X9FwK9RXb"
      },
      "source": [
        "import pandas as pd\n",
        "import numpy as np"
      ],
      "execution_count": 1,
      "outputs": []
    },
    {
      "cell_type": "code",
      "metadata": {
        "id": "YYBoLycYBS_v"
      },
      "source": [
        "from datetime import date,time,datetime"
      ],
      "execution_count": 2,
      "outputs": []
    },
    {
      "cell_type": "code",
      "metadata": {
        "id": "G6qVTAmNeznz"
      },
      "source": [
        "date = '2021-09-04'"
      ],
      "execution_count": null,
      "outputs": []
    },
    {
      "cell_type": "code",
      "metadata": {
        "colab": {
          "base_uri": "https://localhost:8080/"
        },
        "id": "T1mLLPQIe5SV",
        "outputId": "250fc16a-d080-414a-d30d-2af8959ae81a"
      },
      "source": [
        "type(date)"
      ],
      "execution_count": null,
      "outputs": [
        {
          "output_type": "execute_result",
          "data": {
            "text/plain": [
              "str"
            ]
          },
          "metadata": {},
          "execution_count": 6
        }
      ]
    },
    {
      "cell_type": "code",
      "metadata": {
        "colab": {
          "base_uri": "https://localhost:8080/"
        },
        "id": "GT6WiBVee60I",
        "outputId": "d66e6ec0-4a33-4756-edb8-796129b1df33"
      },
      "source": [
        "date1 = datetime.strptime(date,'%Y-%m-%d')\n",
        "date1"
      ],
      "execution_count": null,
      "outputs": [
        {
          "output_type": "execute_result",
          "data": {
            "text/plain": [
              "datetime.datetime(2021, 9, 4, 0, 0)"
            ]
          },
          "metadata": {},
          "execution_count": 9
        }
      ]
    },
    {
      "cell_type": "code",
      "metadata": {
        "colab": {
          "base_uri": "https://localhost:8080/"
        },
        "id": "heL-9Eo4fHdc",
        "outputId": "8f5560f9-a083-4d0f-a212-9895bd8c7916"
      },
      "source": [
        "type(date1)"
      ],
      "execution_count": null,
      "outputs": [
        {
          "output_type": "execute_result",
          "data": {
            "text/plain": [
              "datetime.datetime"
            ]
          },
          "metadata": {},
          "execution_count": 10
        }
      ]
    },
    {
      "cell_type": "code",
      "metadata": {
        "id": "01gJ-7u5JgL7"
      },
      "source": [
        "date2 = 'Sep 5 2021 2PM'"
      ],
      "execution_count": 21,
      "outputs": []
    },
    {
      "cell_type": "code",
      "metadata": {
        "colab": {
          "base_uri": "https://localhost:8080/"
        },
        "id": "sW2Vicu6KEJ3",
        "outputId": "9084cf17-2f60-496d-ea62-b0600e28646b"
      },
      "source": [
        "dt2 = datetime.strptime(date2,'%b %d %Y %I%p')\n",
        "dt2"
      ],
      "execution_count": 18,
      "outputs": [
        {
          "output_type": "execute_result",
          "data": {
            "text/plain": [
              "datetime.datetime(2021, 9, 5, 14, 0)"
            ]
          },
          "metadata": {},
          "execution_count": 18
        }
      ]
    },
    {
      "cell_type": "code",
      "metadata": {
        "colab": {
          "base_uri": "https://localhost:8080/"
        },
        "id": "_hO8Y2RVKRfd",
        "outputId": "d332f4eb-4694-4d63-952d-51044dc5d587"
      },
      "source": [
        "dt2.year,dt2.month,dt2.day,dt2.hour,dt2.second,"
      ],
      "execution_count": 20,
      "outputs": [
        {
          "output_type": "execute_result",
          "data": {
            "text/plain": [
              "(2021, 9, 5, 14, 0)"
            ]
          },
          "metadata": {},
          "execution_count": 20
        }
      ]
    },
    {
      "cell_type": "markdown",
      "metadata": {
        "id": "xEk26xMYSgZa"
      },
      "source": [
        "https://docs.python.org/3/library/datetime.html#strftime-and-strptime-behavior"
      ]
    }
  ]
}