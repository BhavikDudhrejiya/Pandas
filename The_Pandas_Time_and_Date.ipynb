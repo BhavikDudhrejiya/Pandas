{
  "nbformat": 4,
  "nbformat_minor": 0,
  "metadata": {
    "colab": {
      "name": "The Pandas Time and Date.ipynb",
      "provenance": [],
      "collapsed_sections": [],
      "authorship_tag": "ABX9TyPJiJTiWLUmlylBRj+TbNDy",
      "include_colab_link": true
    },
    "kernelspec": {
      "name": "python3",
      "display_name": "Python 3"
    },
    "language_info": {
      "name": "python"
    }
  },
  "cells": [
    {
      "cell_type": "markdown",
      "metadata": {
        "id": "view-in-github",
        "colab_type": "text"
      },
      "source": [
        "<a href=\"https://colab.research.google.com/github/BhavikDudhrejiya/Pandas/blob/main/The_Pandas_Time_and_Date.ipynb\" target=\"_parent\"><img src=\"https://colab.research.google.com/assets/colab-badge.svg\" alt=\"Open In Colab\"/></a>"
      ]
    },
    {
      "cell_type": "code",
      "metadata": {
        "id": "Qm_X9FwK9RXb"
      },
      "source": [
        "#Impoting libraries\n",
        "import pandas as pd\n",
        "import numpy as np"
      ],
      "execution_count": 1,
      "outputs": []
    },
    {
      "cell_type": "code",
      "metadata": {
        "id": "gBjeSxz5ZKXy"
      },
      "source": [
        "from datetime import datetime, time"
      ],
      "execution_count": 2,
      "outputs": []
    },
    {
      "cell_type": "code",
      "metadata": {
        "colab": {
          "base_uri": "https://localhost:8080/"
        },
        "id": "OZXaAJrNfNE3",
        "outputId": "23dd5ab8-8118-453b-8379-c0d2e895474a"
      },
      "source": [
        "dt = '4th of July 1999'\n",
        "pd.Timestamp(dt)"
      ],
      "execution_count": 3,
      "outputs": [
        {
          "output_type": "execute_result",
          "data": {
            "text/plain": [
              "Timestamp('1999-07-04 00:00:00')"
            ]
          },
          "metadata": {},
          "execution_count": 3
        }
      ]
    },
    {
      "cell_type": "code",
      "metadata": {
        "colab": {
          "base_uri": "https://localhost:8080/"
        },
        "id": "yKBAtNVHfNNl",
        "outputId": "f1a796e7-c450-4e0b-911c-bdd20716f4e0"
      },
      "source": [
        "dt2 = '4/7/1999'\n",
        "pd.Timestamp(dt2)"
      ],
      "execution_count": 4,
      "outputs": [
        {
          "output_type": "execute_result",
          "data": {
            "text/plain": [
              "Timestamp('1999-04-07 00:00:00')"
            ]
          },
          "metadata": {},
          "execution_count": 4
        }
      ]
    },
    {
      "cell_type": "code",
      "metadata": {
        "colab": {
          "base_uri": "https://localhost:8080/"
        },
        "id": "3GA4S-_XfNP5",
        "outputId": "3894ea20-9736-4c5f-a0ac-c4230f01a3c9"
      },
      "source": [
        "dt3 = '5 Sep 2021'\n",
        "pd.Timestamp(dt3)"
      ],
      "execution_count": 5,
      "outputs": [
        {
          "output_type": "execute_result",
          "data": {
            "text/plain": [
              "Timestamp('2021-09-05 00:00:00')"
            ]
          },
          "metadata": {},
          "execution_count": 5
        }
      ]
    },
    {
      "cell_type": "code",
      "metadata": {
        "colab": {
          "base_uri": "https://localhost:8080/"
        },
        "id": "Al12RcDZfNSM",
        "outputId": "07794a5a-3dc4-44c2-a4e3-3d579134e89c"
      },
      "source": [
        "dt4 = '2021 Sep 5'\n",
        "pd.Timestamp(dt4)"
      ],
      "execution_count": 6,
      "outputs": [
        {
          "output_type": "execute_result",
          "data": {
            "text/plain": [
              "Timestamp('2021-09-05 00:00:00')"
            ]
          },
          "metadata": {},
          "execution_count": 6
        }
      ]
    },
    {
      "cell_type": "code",
      "metadata": {
        "colab": {
          "base_uri": "https://localhost:8080/"
        },
        "id": "HshAW1mFfNVO",
        "outputId": "f1714a23-7f1e-46f5-a3f2-fd61d965f02b"
      },
      "source": [
        "dt4 = '2021 Sep 5 4:00:00PM'\n",
        "pd.Timestamp(dt4)"
      ],
      "execution_count": 7,
      "outputs": [
        {
          "output_type": "execute_result",
          "data": {
            "text/plain": [
              "Timestamp('2021-09-05 16:00:00')"
            ]
          },
          "metadata": {},
          "execution_count": 7
        }
      ]
    },
    {
      "cell_type": "code",
      "metadata": {
        "colab": {
          "base_uri": "https://localhost:8080/"
        },
        "id": "72iarVD4fNXm",
        "outputId": "5d2786d5-2fd9-4686-98aa-59198225a80b"
      },
      "source": [
        "pdts = pd.to_datetime('4/7/1776',dayfirst=True)\n",
        "pdts"
      ],
      "execution_count": 8,
      "outputs": [
        {
          "output_type": "execute_result",
          "data": {
            "text/plain": [
              "Timestamp('1776-07-04 00:00:00')"
            ]
          },
          "metadata": {},
          "execution_count": 8
        }
      ]
    },
    {
      "cell_type": "code",
      "metadata": {
        "colab": {
          "base_uri": "https://localhost:8080/",
          "height": 35
        },
        "id": "5nd3WEP-fNbG",
        "outputId": "0f3decb3-15ee-4d60-a54c-38a86e870c1d"
      },
      "source": [
        "pdts.day_name()"
      ],
      "execution_count": 9,
      "outputs": [
        {
          "output_type": "execute_result",
          "data": {
            "application/vnd.google.colaboratory.intrinsic+json": {
              "type": "string"
            },
            "text/plain": [
              "'Thursday'"
            ]
          },
          "metadata": {},
          "execution_count": 9
        }
      ]
    },
    {
      "cell_type": "code",
      "metadata": {
        "colab": {
          "base_uri": "https://localhost:8080/"
        },
        "id": "1Xod-PoOfNeG",
        "outputId": "3867c759-465a-4fdd-a74e-3087bcbad510"
      },
      "source": [
        "pdts.days_in_month"
      ],
      "execution_count": 11,
      "outputs": [
        {
          "output_type": "execute_result",
          "data": {
            "text/plain": [
              "31"
            ]
          },
          "metadata": {},
          "execution_count": 11
        }
      ]
    },
    {
      "cell_type": "code",
      "metadata": {
        "colab": {
          "base_uri": "https://localhost:8080/"
        },
        "id": "30p3THhFfNhV",
        "outputId": "8106c245-963b-44e3-d3b3-ecbabecb84fe"
      },
      "source": [
        "pdts.quarter"
      ],
      "execution_count": 12,
      "outputs": [
        {
          "output_type": "execute_result",
          "data": {
            "text/plain": [
              "3"
            ]
          },
          "metadata": {},
          "execution_count": 12
        }
      ]
    },
    {
      "cell_type": "code",
      "metadata": {
        "colab": {
          "base_uri": "https://localhost:8080/"
        },
        "id": "se3v9-BUNX6W",
        "outputId": "27d9c9b9-a383-4e34-8940-e9b0dfc75e52"
      },
      "source": [
        "pdts.isocalendar()"
      ],
      "execution_count": 14,
      "outputs": [
        {
          "output_type": "execute_result",
          "data": {
            "text/plain": [
              "(1776, 27, 4)"
            ]
          },
          "metadata": {},
          "execution_count": 14
        }
      ]
    },
    {
      "cell_type": "code",
      "metadata": {
        "id": "D1MF2wP6NaZI"
      },
      "source": [
        ""
      ],
      "execution_count": null,
      "outputs": []
    }
  ]
}