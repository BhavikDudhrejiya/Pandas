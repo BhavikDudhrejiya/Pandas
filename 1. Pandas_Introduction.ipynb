{
 "cells": [
  {
   "cell_type": "markdown",
   "metadata": {},
   "source": [
    "What is Pandas ?\n",
    "Pandas is a powerful Python data analysis open source toolkit. It has fast and efficient DataFrame object for data manipulation.Reading and writing data structures and different formats like csv, tsv, txt, xml, json, zip etc."
   ]
  },
  {
   "cell_type": "markdown",
   "metadata": {},
   "source": [
    "Pandas Data Structure\n",
    "1. Series\n",
    "2. DataFrame\n",
    "3. Panel"
   ]
  },
  {
   "cell_type": "markdown",
   "metadata": {},
   "source": [
    "How to install pandas ?\n",
    "Go to prompt command window or type cmd on search bar\n",
    "Type 'pip install pandas'"
   ]
  },
  {
   "cell_type": "markdown",
   "metadata": {},
   "source": [
    "How to import pandas library ?\n",
    "import pandas\n",
    "or\n",
    "import pandas as pd (pd is short form of pandas which is used for avoiding typing full name)"
   ]
  }
 ],
 "metadata": {
  "kernelspec": {
   "display_name": "Python 3",
   "language": "python",
   "name": "python3"
  },
  "language_info": {
   "codemirror_mode": {
    "name": "ipython",
    "version": 3
   },
   "file_extension": ".py",
   "mimetype": "text/x-python",
   "name": "python",
   "nbconvert_exporter": "python",
   "pygments_lexer": "ipython3",
   "version": "3.8.6"
  }
 },
 "nbformat": 4,
 "nbformat_minor": 4
}
