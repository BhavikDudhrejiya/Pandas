{
  "nbformat": 4,
  "nbformat_minor": 0,
  "metadata": {
    "colab": {
      "name": "Dateutil: Parsing Dates from Text.ipynb",
      "provenance": [],
      "collapsed_sections": [],
      "authorship_tag": "ABX9TyOHbcpQSmMBvG1/i9KfhINe",
      "include_colab_link": true
    },
    "kernelspec": {
      "name": "python3",
      "display_name": "Python 3"
    },
    "language_info": {
      "name": "python"
    }
  },
  "cells": [
    {
      "cell_type": "markdown",
      "metadata": {
        "id": "view-in-github",
        "colab_type": "text"
      },
      "source": [
        "<a href=\"https://colab.research.google.com/github/BhavikDudhrejiya/Pandas/blob/main/Dateutil_Parsing_Dates_from_Text.ipynb\" target=\"_parent\"><img src=\"https://colab.research.google.com/assets/colab-badge.svg\" alt=\"Open In Colab\"/></a>"
      ]
    },
    {
      "cell_type": "code",
      "metadata": {
        "id": "Qm_X9FwK9RXb"
      },
      "source": [
        "#Impoting libraries\n",
        "import pandas as pd\n",
        "import numpy as np"
      ],
      "execution_count": 2,
      "outputs": []
    },
    {
      "cell_type": "code",
      "metadata": {
        "id": "YYBoLycYBS_v"
      },
      "source": [
        "from dateutil import parser"
      ],
      "execution_count": 3,
      "outputs": []
    },
    {
      "cell_type": "code",
      "metadata": {
        "colab": {
          "base_uri": "https://localhost:8080/"
        },
        "id": "XzrMy3GNTgr3",
        "outputId": "0f33f36d-f22e-45c9-cf57-d1e4a981302d"
      },
      "source": [
        "dt = '2021-09-05'\n",
        "dt_parsed = parser.parse(dt)\n",
        "dt_parsed"
      ],
      "execution_count": 8,
      "outputs": [
        {
          "output_type": "execute_result",
          "data": {
            "text/plain": [
              "datetime.datetime(2021, 9, 5, 0, 0)"
            ]
          },
          "metadata": {},
          "execution_count": 8
        }
      ]
    },
    {
      "cell_type": "code",
      "metadata": {
        "colab": {
          "base_uri": "https://localhost:8080/"
        },
        "id": "r5wbnwrXUWHH",
        "outputId": "f2f2fb1d-1fa7-46c7-9bb3-7f6a52d65b0e"
      },
      "source": [
        "dt1 = '21st June 2015'\n",
        "dt1_parsed = parser.parse(dt1)\n",
        "dt1_parsed"
      ],
      "execution_count": 7,
      "outputs": [
        {
          "output_type": "execute_result",
          "data": {
            "text/plain": [
              "datetime.datetime(2015, 6, 21, 0, 0)"
            ]
          },
          "metadata": {},
          "execution_count": 7
        }
      ]
    },
    {
      "cell_type": "code",
      "metadata": {
        "colab": {
          "base_uri": "https://localhost:8080/"
        },
        "id": "zarXjPn1XSc_",
        "outputId": "a9119f6e-a857-4c07-d3a5-0a0977a486f5"
      },
      "source": [
        "dt2 = '21st June 2015 4PM'\n",
        "dt2_parsed = parser.parse(dt2)\n",
        "dt2_parsed"
      ],
      "execution_count": 9,
      "outputs": [
        {
          "output_type": "execute_result",
          "data": {
            "text/plain": [
              "datetime.datetime(2015, 6, 21, 16, 0)"
            ]
          },
          "metadata": {},
          "execution_count": 9
        }
      ]
    },
    {
      "cell_type": "code",
      "metadata": {
        "colab": {
          "base_uri": "https://localhost:8080/"
        },
        "id": "S8Cny-BwXgYP",
        "outputId": "0f8ce074-0ad2-44e2-92f3-22e5123844ea"
      },
      "source": [
        "dt3 = '21st June 2015 4:00 PM'\n",
        "dt3_parsed = parser.parse(dt3)\n",
        "dt3_parsed"
      ],
      "execution_count": 10,
      "outputs": [
        {
          "output_type": "execute_result",
          "data": {
            "text/plain": [
              "datetime.datetime(2015, 6, 21, 16, 0)"
            ]
          },
          "metadata": {},
          "execution_count": 10
        }
      ]
    },
    {
      "cell_type": "code",
      "metadata": {
        "colab": {
          "base_uri": "https://localhost:8080/"
        },
        "id": "EoBUfIugXprb",
        "outputId": "e9267c53-de57-46ba-ca32-14a0fc80e838"
      },
      "source": [
        "dt4 = '21st June 2015 4PM and 30 Minutes 20 Seconds'\n",
        "dt4_parsed = parser.parse(dt4)\n",
        "dt4_parsed"
      ],
      "execution_count": 11,
      "outputs": [
        {
          "output_type": "execute_result",
          "data": {
            "text/plain": [
              "datetime.datetime(2015, 6, 21, 16, 30, 20)"
            ]
          },
          "metadata": {},
          "execution_count": 11
        }
      ]
    }
  ]
}